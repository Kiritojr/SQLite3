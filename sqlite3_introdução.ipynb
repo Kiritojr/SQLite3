{
  "nbformat": 4,
  "nbformat_minor": 0,
  "metadata": {
    "colab": {
      "name": "sqlite3-introdução.ipynb",
      "provenance": [],
      "collapsed_sections": [],
      "authorship_tag": "ABX9TyPnm9JHHycnA+ihHZktuE92",
      "include_colab_link": true
    },
    "kernelspec": {
      "name": "python3",
      "display_name": "Python 3"
    }
  },
  "cells": [
    {
      "cell_type": "markdown",
      "metadata": {
        "id": "view-in-github",
        "colab_type": "text"
      },
      "source": [
        "<a href=\"https://colab.research.google.com/github/Kiritojr/SQLite3/blob/master/sqlite3_introdu%C3%A7%C3%A3o.ipynb\" target=\"_parent\"><img src=\"https://colab.research.google.com/assets/colab-badge.svg\" alt=\"Open In Colab\"/></a>"
      ]
    },
    {
      "cell_type": "code",
      "metadata": {
        "id": "zMXNdpLSm3ak",
        "colab_type": "code",
        "colab": {}
      },
      "source": [
        "# Removes the file with the SQLite database (if any)\n",
        "import os\n",
        "os.remove(\"Estoque.db\") if os.path.exists(\"Estoque.db\") else None"
      ],
      "execution_count": 0,
      "outputs": []
    },
    {
      "cell_type": "code",
      "metadata": {
        "id": "kIE_dkWcDlN3",
        "colab_type": "code",
        "colab": {}
      },
      "source": [
        " import sqlite3"
      ],
      "execution_count": 0,
      "outputs": []
    },
    {
      "cell_type": "code",
      "metadata": {
        "id": "DM9zguT1GyqG",
        "colab_type": "code",
        "colab": {}
      },
      "source": [
        "#Create a database connection\n",
        "#If the database does not exist, it is created at that time\n",
        "\n",
        "connect = sqlite3.connect('Estoque.db')"
      ],
      "execution_count": 0,
      "outputs": []
    },
    {
      "cell_type": "code",
      "metadata": {
        "id": "mnb7MVPcHORJ",
        "colab_type": "code",
        "outputId": "0ef52ae2-0965-49c9-fef4-2fd9fbb9b2f3",
        "colab": {
          "base_uri": "https://localhost:8080/",
          "height": 34
        }
      },
      "source": [
        "type(connect)"
      ],
      "execution_count": 0,
      "outputs": [
        {
          "output_type": "execute_result",
          "data": {
            "text/plain": [
              "sqlite3.Connection"
            ]
          },
          "metadata": {
            "tags": []
          },
          "execution_count": 60
        }
      ]
    },
    {
      "cell_type": "code",
      "metadata": {
        "id": "5rHyTL1_HRDQ",
        "colab_type": "code",
        "colab": {}
      },
      "source": [
        "# Creating a course\n",
        "# A cursor allows you to cycle through all the records in a data set\n",
        "\n",
        "cur = connect.cursor()"
      ],
      "execution_count": 0,
      "outputs": []
    },
    {
      "cell_type": "code",
      "metadata": {
        "id": "X9nEVQoMJcLF",
        "colab_type": "code",
        "outputId": "60946302-9526-4fa9-faa5-bbb5e46915e5",
        "colab": {
          "base_uri": "https://localhost:8080/",
          "height": 34
        }
      },
      "source": [
        "type(cur)"
      ],
      "execution_count": 0,
      "outputs": [
        {
          "output_type": "execute_result",
          "data": {
            "text/plain": [
              "sqlite3.Cursor"
            ]
          },
          "metadata": {
            "tags": []
          },
          "execution_count": 62
        }
      ]
    },
    {
      "cell_type": "code",
      "metadata": {
        "id": "0X-MP5NmJeaF",
        "colab_type": "code",
        "colab": {}
      },
      "source": [
        "# Creating an SQL statement to create a table named 'Inventory'\n",
        "\n",
        "sql_create = '''CREATE TABLE Estoque (\n",
        "    id_nome VARCHAR(50) PRIMARY KEY,\n",
        "    quant INT)'''"
      ],
      "execution_count": 0,
      "outputs": []
    },
    {
      "cell_type": "code",
      "metadata": {
        "id": "eBBMNjuuLV66",
        "colab_type": "code",
        "outputId": "7d94b709-c437-4a3d-ae6c-e80144bcad3f",
        "colab": {
          "base_uri": "https://localhost:8080/",
          "height": 34
        }
      },
      "source": [
        "# Executing the SQL statement at the cursor\n",
        "\n",
        "cur.execute(sql_create)"
      ],
      "execution_count": 0,
      "outputs": [
        {
          "output_type": "execute_result",
          "data": {
            "text/plain": [
              "<sqlite3.Cursor at 0x7f4c1c9457a0>"
            ]
          },
          "metadata": {
            "tags": []
          },
          "execution_count": 64
        }
      ]
    },
    {
      "cell_type": "code",
      "metadata": {
        "id": "rR9oqBFyLfvo",
        "colab_type": "code",
        "colab": {}
      },
      "source": [
        "# Creating an SQL statement to insert a record\n",
        "\n",
        "sql_insert = 'INSERT INTO Estoque VALUES (?, ?)'"
      ],
      "execution_count": 0,
      "outputs": []
    },
    {
      "cell_type": "code",
      "metadata": {
        "id": "DBgzBy2wQg24",
        "colab_type": "code",
        "colab": {}
      },
      "source": [
        "# Data\n",
        "\n",
        "dados = [('Óleo 1L', 2),\n",
        "         ('Macarrão 500g', 2),\n",
        "         ('Leite 1L', 10)]"
      ],
      "execution_count": 0,
      "outputs": []
    },
    {
      "cell_type": "code",
      "metadata": {
        "id": "8_nvCnXcVk9z",
        "colab_type": "code",
        "colab": {}
      },
      "source": [
        "# Inserting data\n",
        "\n",
        "for data in dados:\n",
        "    \n",
        "    cur.execute(sql_insert,data)"
      ],
      "execution_count": 0,
      "outputs": []
    },
    {
      "cell_type": "code",
      "metadata": {
        "id": "Acy_x3M8WB6_",
        "colab_type": "code",
        "colab": {}
      },
      "source": [
        "# Save the transaction\n",
        "\n",
        "connect.commit()"
      ],
      "execution_count": 0,
      "outputs": []
    },
    {
      "cell_type": "code",
      "metadata": {
        "id": "qKmHedt6WFLv",
        "colab_type": "code",
        "colab": {}
      },
      "source": [
        "# Creating another SQL statement to select records\n",
        "\n",
        "sql_select = 'SELECT * FROM Estoque'"
      ],
      "execution_count": 0,
      "outputs": []
    },
    {
      "cell_type": "code",
      "metadata": {
        "id": "Y6ytnZ1vb36l",
        "colab_type": "code",
        "colab": {}
      },
      "source": [
        "# Select all records and retrieve records\n",
        "\n",
        "cur.execute(sql_select)\n",
        "data = cur.fetchall()"
      ],
      "execution_count": 0,
      "outputs": []
    },
    {
      "cell_type": "code",
      "metadata": {
        "id": "VDdi0gMqcJ6H",
        "colab_type": "code",
        "outputId": "d79709bd-53fc-470c-e805-5fff26f1a180",
        "colab": {
          "base_uri": "https://localhost:8080/",
          "height": 119
        }
      },
      "source": [
        "# Shows\n",
        "for linha in data:\n",
        "    print ('id_nome: %s, Quantidade: %d \\n' % linha)"
      ],
      "execution_count": 0,
      "outputs": [
        {
          "output_type": "stream",
          "text": [
            "id_nome: Óleo 1L, Quantidade: 2 \n",
            "\n",
            "id_nome: Macarrão 500g, Quantidade: 2 \n",
            "\n",
            "id_nome: Leite 1L, Quantidade: 10 \n",
            "\n"
          ],
          "name": "stdout"
        }
      ]
    },
    {
      "cell_type": "code",
      "metadata": {
        "id": "L29OCPnPcYp0",
        "colab_type": "code",
        "colab": {}
      },
      "source": [
        "# Generating other records\n",
        "\n",
        "dados = [('Arroz 5Kg', 2),\n",
        "         ('Feijão 1Kg', 3)]\n",
        "\n",
        "# Inserting the records\n",
        "\n",
        "for data in dados:\n",
        "\n",
        "    cur.execute(sql_insert, data)\n",
        "    \n",
        "# Recording the transaction\n",
        "\n",
        "connect.commit()"
      ],
      "execution_count": 0,
      "outputs": []
    },
    {
      "cell_type": "code",
      "metadata": {
        "id": "Fg9Tc0FDoASa",
        "colab_type": "code",
        "outputId": "f08533f2-333a-4c08-8276-6adfb3855669",
        "colab": {
          "base_uri": "https://localhost:8080/",
          "height": 187
        }
      },
      "source": [
        "# Select all records\n",
        "\n",
        "cur.execute('SELECT * FROM Estoque')\n",
        "\n",
        "# Retrieve the results\n",
        "\n",
        "dados = cur.fetchall()\n",
        "\n",
        "# Show\n",
        "\n",
        "for data in dados:\n",
        "\n",
        "    print('id_nome: %s, Quantidade: %d \\n' %data)\n",
        "\n"
      ],
      "execution_count": 0,
      "outputs": [
        {
          "output_type": "stream",
          "text": [
            "id_nome: Óleo 1L, Quantidade: 2 \n",
            "\n",
            "id_nome: Macarrão 500g, Quantidade: 2 \n",
            "\n",
            "id_nome: Leite 1L, Quantidade: 10 \n",
            "\n",
            "id_nome: Arroz 5Kg, Quantidade: 2 \n",
            "\n",
            "id_nome: Feijão 1Kg, Quantidade: 3 \n",
            "\n"
          ],
          "name": "stdout"
        }
      ]
    },
    {
      "cell_type": "code",
      "metadata": {
        "id": "_9eMtPvFpM2-",
        "colab_type": "code",
        "colab": {}
      },
      "source": [
        "# Close the connection\n",
        "\n",
        "connect.close()"
      ],
      "execution_count": 0,
      "outputs": []
    }
  ]
}