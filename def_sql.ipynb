{
  "nbformat": 4,
  "nbformat_minor": 0,
  "metadata": {
    "colab": {
      "name": "def_sql.ipynb",
      "provenance": [],
      "authorship_tag": "ABX9TyMXgYJQGxFCUZAC/z9WQXsi",
      "include_colab_link": true
    },
    "kernelspec": {
      "name": "python3",
      "display_name": "Python 3"
    }
  },
  "cells": [
    {
      "cell_type": "markdown",
      "metadata": {
        "id": "view-in-github",
        "colab_type": "text"
      },
      "source": [
        "<a href=\"https://colab.research.google.com/github/Kiritojr/SQLite3/blob/master/def_sql.ipynb\" target=\"_parent\"><img src=\"https://colab.research.google.com/assets/colab-badge.svg\" alt=\"Open In Colab\"/></a>"
      ]
    },
    {
      "cell_type": "code",
      "metadata": {
        "id": "tbJb1Zztf1yK",
        "colab_type": "code",
        "colab": {}
      },
      "source": [
        "import sqlite3 as sql"
      ],
      "execution_count": 0,
      "outputs": []
    },
    {
      "cell_type": "code",
      "metadata": {
        "id": "kHHmgOVNk8R0",
        "colab_type": "code",
        "colab": {}
      },
      "source": [
        "data_base = input(\"Qual o nome do banco de dados deseja acessar/criar.\")\n",
        "\n",
        "connection = sql.connect(f'{data_base}.bd')\n",
        "\n",
        "cur = connection.cursor()\n",
        "\n",
        "choice()"
      ],
      "execution_count": 0,
      "outputs": []
    },
    {
      "cell_type": "code",
      "metadata": {
        "id": "DPb5PUOypZyP",
        "colab_type": "code",
        "colab": {}
      },
      "source": [
        "def choice():\n",
        "\n",
        "    acao = input(\"\"\"A - Criar nova tabela (CREATE TABLE).\n",
        "    B - Visualizar tabela existente (SELECT * FROM TABLE).\n",
        "    C - Inserir novos dados (INSERT INTO).\n",
        "    D - Alterar a estrutura da tabela (ALTER TABLE).\n",
        "    E - Modificar os dados (UPDATE).\n",
        "    F - Remover registro(os) da tabela (DELETE).\n",
        "    G - Encerrar conexão.\n",
        "    \"\"\").upper()\n",
        "\n",
        "    if acao == 'A':\n",
        "        create_table()\n",
        "\n",
        "    elif acao == 'B':\n",
        "        select_table()\n",
        "\n",
        "    elif acao == 'C':\n",
        "        insert_into()\n",
        "\n",
        "    elif acao == 'D':\n",
        "        alter_table()\n",
        "\n",
        "    elif acao == 'E':\n",
        "        update()\n",
        "\n",
        "    elif acao == 'F':\n",
        "        delete()\n",
        "\n",
        "    elif acao == 'G':\n",
        "        cur.close()\n",
        "        connection.close()\n",
        "\n",
        "    else:\n",
        "        print('ERRO!!, por favor digite uma opção existente.')\n",
        "        choice()"
      ],
      "execution_count": 0,
      "outputs": []
    },
    {
      "cell_type": "code",
      "metadata": {
        "id": "WUTjHSSbvpwY",
        "colab_type": "code",
        "colab": {}
      },
      "source": [
        "def create_table():\n",
        "\n",
        "    print(\"Insira o comando com os dados da tabela.\")\n",
        "    new_table = input()\n",
        "    cur.execute(new_table)\n",
        "\n",
        "    connection.commit()\n",
        "    choice()"
      ],
      "execution_count": 0,
      "outputs": []
    },
    {
      "cell_type": "code",
      "metadata": {
        "id": "2zAM9jCUxD7F",
        "colab_type": "code",
        "colab": {}
      },
      "source": [
        "def select_table():\n",
        "\n",
        "    choice = input('deseja visualisar todos os dados da tabela? [Y/N] ').upper()\n",
        "    if choice == 'Y':\n",
        "        name_table = input('Qual o nome da tabela? ')\n",
        "        cur.execute(f'SELECT * FROM {name_table}')\n",
        "\n",
        "        for linha in cur.fetchall():\n",
        "            print(linha)\n",
        "    else:\n",
        "        print(\"Insira o comando para a visualização.\")\n",
        "        select = input()\n",
        "        cur.execute(select)\n",
        "        \n",
        "        for linha in cur.fetchall():\n",
        "            print(linha)\n",
        "        \n",
        "    choice()"
      ],
      "execution_count": 0,
      "outputs": []
    },
    {
      "cell_type": "code",
      "metadata": {
        "id": "U79NATabxlEZ",
        "colab_type": "code",
        "colab": {}
      },
      "source": [
        "def insert_into():\n",
        "\n",
        "    print(\"Insira o comando para inserir novos dados na tabela.\")\n",
        "    insert = input()\n",
        "    cur.execute(insert)\n",
        "\n",
        "    connection.commit()\n",
        "    \n",
        "    choice()"
      ],
      "execution_count": 0,
      "outputs": []
    },
    {
      "cell_type": "code",
      "metadata": {
        "id": "6GRuHfUFyGb6",
        "colab_type": "code",
        "colab": {}
      },
      "source": [
        "def alter_table():\n",
        "\n",
        "    print(\"Insira o comando para alterar a estrutura da tabela.\")    \n",
        "    alter = input()\n",
        "    cur.execute(alter)\n",
        "\n",
        "    connection.commit()\n",
        "\n",
        "    choice()"
      ],
      "execution_count": 0,
      "outputs": []
    },
    {
      "cell_type": "code",
      "metadata": {
        "id": "d06H4H0T1XE4",
        "colab_type": "code",
        "colab": {}
      },
      "source": [
        "def update():\n",
        "\n",
        "    print('Insira o comando para modificar os dados da tabela.')\n",
        "    up = input()\n",
        "    cur.execute(up)\n",
        "\n",
        "    connection.commit()\n",
        "\n",
        "    choice()"
      ],
      "execution_count": 0,
      "outputs": []
    },
    {
      "cell_type": "code",
      "metadata": {
        "id": "pRAS2Qc53LzO",
        "colab_type": "code",
        "colab": {}
      },
      "source": [
        "def delete():\n",
        "\n",
        "    print('Insira o comando para remover registro(os) da tabela.')   \n",
        "    delet = input()\n",
        "    cur.execute(delet)\n",
        "\n",
        "    connection.commit()\n",
        "\n",
        "    choice()"
      ],
      "execution_count": 0,
      "outputs": []
    }
  ]
}